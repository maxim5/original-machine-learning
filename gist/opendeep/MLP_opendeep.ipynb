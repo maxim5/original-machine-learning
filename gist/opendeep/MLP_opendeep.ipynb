{
 "cells": [
  {
   "cell_type": "code",
   "execution_count": null,
   "metadata": {
    "collapsed": false
   },
   "outputs": [],
   "source": [
    "# imports and logger!\n",
    "from opendeep.log import config_root_logger\n",
    "from opendeep.models import Prototype, Dense, SoftmaxLayer\n",
    "from opendeep.optimization import SGD\n",
    "from opendeep.data import MNIST\n",
    "from opendeep.monitor import Monitor, FileService\n",
    "\n",
    "config_root_logger()"
   ]
  },
  {
   "cell_type": "code",
   "execution_count": null,
   "metadata": {
    "collapsed": false
   },
   "outputs": [],
   "source": [
    "# Create the MLP with two hidden layers and one classification layer\n",
    "mlp = Prototype()\n",
    "mlp.add(\n",
    "    Dense(input_size=28*28, output_size=1000, activation='tanh', noise='dropout', noise_level=0.3)\n",
    ")\n",
    "mlp.add(\n",
    "    Dense(output_size=1000, activation='tanh', noise='dropout', noise_level=0.3)\n",
    ")\n",
    "mlp.add(\n",
    "    SoftmaxLayer(output_size=10)\n",
    ")"
   ]
  },
  {
   "cell_type": "code",
   "execution_count": null,
   "metadata": {
    "collapsed": false
   },
   "outputs": [],
   "source": [
    "# Create the MNIST data object\n",
    "mnist = MNIST(concat_train_valid=True)\n",
    "\n",
    "# Create the optimizer object\n",
    "optimizer = SGD(model=mlp, \n",
    "                dataset=mnist, \n",
    "                epochs=100, \n",
    "                batch_size=500, \n",
    "                learning_rate=.01, \n",
    "                momentum=.9,\n",
    "                nesterov_momentum=True)\n",
    "\n",
    "# Make a monitor to watch the train and test prediction errors\n",
    "errorMonitor = Monitor('error', mlp.get_monitors()['softmax_error'], train=True, test=True)"
   ]
  },
  {
   "cell_type": "code",
   "execution_count": null,
   "metadata": {
    "collapsed": false
   },
   "outputs": [],
   "source": [
    "# Train the model with the optimizer!\n",
    "optimizer.train(monitor_channels=[errorMonitor])"
   ]
  },
  {
   "cell_type": "code",
   "execution_count": null,
   "metadata": {
    "collapsed": false
   },
   "outputs": [],
   "source": [
    "# Make some predictions on test data!\n",
    "test_data, test_labels = mnist.test_inputs, mnist.test_targets\n",
    "\n",
    "n=30\n",
    "predictions = mlp.run(test_data)\n",
    "labels = test_labels.astype('int32')\n",
    "\n",
    "print \"Predictions:\", predictions[:n]\n",
    "print \"Correct:    \", labels[:n]\n",
    "print \"Accuracy:   \", sum((predictions==labels) * 1./len(labels))*100, \"%\""
   ]
  },
  {
   "cell_type": "code",
   "execution_count": null,
   "metadata": {
    "collapsed": true
   },
   "outputs": [],
   "source": []
  }
 ],
 "metadata": {
  "kernelspec": {
   "display_name": "Python 2",
   "language": "python",
   "name": "python2"
  },
  "language_info": {
   "codemirror_mode": {
    "name": "ipython",
    "version": 2
   },
   "file_extension": ".py",
   "mimetype": "text/x-python",
   "name": "python",
   "nbconvert_exporter": "python",
   "pygments_lexer": "ipython2",
   "version": "2.7.6"
  }
 },
 "nbformat": 4,
 "nbformat_minor": 0
}
